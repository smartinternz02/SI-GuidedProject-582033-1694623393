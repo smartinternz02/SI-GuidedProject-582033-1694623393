{
 "cells": [
  {
   "cell_type": "markdown",
   "id": "cba24511",
   "metadata": {},
   "source": [
    "<h2>Anirudh Sriram\n",
    "    21BAI1239</H2>"
   ]
  },
  {
   "cell_type": "markdown",
   "id": "d60d008b",
   "metadata": {},
   "source": [
    "<h3>Task-1</h3>\n",
    "<h4>Create a pandas dataframe (DataFrame name as 'df') with numpy random values (4 features and 4 observation)</h4>"
   ]
  },
  {
   "cell_type": "code",
   "execution_count": 30,
   "id": "69088c41",
   "metadata": {},
   "outputs": [
    {
     "data": {
      "text/plain": [
       "array([[0.52273283, 0.42754102, 0.02541913, 0.10789143],\n",
       "       [0.03142919, 0.63641041, 0.31435598, 0.50857069],\n",
       "       [0.90756647, 0.24929223, 0.41038292, 0.75555114],\n",
       "       [0.22879817, 0.07697991, 0.28975145, 0.16122129]])"
      ]
     },
     "execution_count": 30,
     "metadata": {},
     "output_type": "execute_result"
    }
   ],
   "source": [
    "import pandas as pd\n",
    "import numpy as np\n",
    "dt=np.random.rand(4,4)\n",
    "dt"
   ]
  },
  {
   "cell_type": "code",
   "execution_count": 31,
   "id": "6fc9c1dc",
   "metadata": {},
   "outputs": [
    {
     "data": {
      "text/html": [
       "<div>\n",
       "<style scoped>\n",
       "    .dataframe tbody tr th:only-of-type {\n",
       "        vertical-align: middle;\n",
       "    }\n",
       "\n",
       "    .dataframe tbody tr th {\n",
       "        vertical-align: top;\n",
       "    }\n",
       "\n",
       "    .dataframe thead th {\n",
       "        text-align: right;\n",
       "    }\n",
       "</style>\n",
       "<table border=\"1\" class=\"dataframe\">\n",
       "  <thead>\n",
       "    <tr style=\"text-align: right;\">\n",
       "      <th></th>\n",
       "      <th>0</th>\n",
       "      <th>1</th>\n",
       "      <th>2</th>\n",
       "      <th>3</th>\n",
       "    </tr>\n",
       "  </thead>\n",
       "  <tbody>\n",
       "    <tr>\n",
       "      <th>0</th>\n",
       "      <td>0.522733</td>\n",
       "      <td>0.427541</td>\n",
       "      <td>0.025419</td>\n",
       "      <td>0.107891</td>\n",
       "    </tr>\n",
       "    <tr>\n",
       "      <th>1</th>\n",
       "      <td>0.031429</td>\n",
       "      <td>0.636410</td>\n",
       "      <td>0.314356</td>\n",
       "      <td>0.508571</td>\n",
       "    </tr>\n",
       "    <tr>\n",
       "      <th>2</th>\n",
       "      <td>0.907566</td>\n",
       "      <td>0.249292</td>\n",
       "      <td>0.410383</td>\n",
       "      <td>0.755551</td>\n",
       "    </tr>\n",
       "    <tr>\n",
       "      <th>3</th>\n",
       "      <td>0.228798</td>\n",
       "      <td>0.076980</td>\n",
       "      <td>0.289751</td>\n",
       "      <td>0.161221</td>\n",
       "    </tr>\n",
       "  </tbody>\n",
       "</table>\n",
       "</div>"
      ],
      "text/plain": [
       "          0         1         2         3\n",
       "0  0.522733  0.427541  0.025419  0.107891\n",
       "1  0.031429  0.636410  0.314356  0.508571\n",
       "2  0.907566  0.249292  0.410383  0.755551\n",
       "3  0.228798  0.076980  0.289751  0.161221"
      ]
     },
     "execution_count": 31,
     "metadata": {},
     "output_type": "execute_result"
    }
   ],
   "source": [
    "df=pd.DataFrame(data=dt)\n",
    "df"
   ]
  },
  {
   "cell_type": "markdown",
   "id": "11c6f3e8",
   "metadata": {},
   "source": [
    "<h3>Task-2</h3>\n",
    "<h4>Rename the task - 1 'df' dataframe column names to 'Random value 1', 'Random value 2', 'Random value 3' & 'Random value 4'\n",
    "</h4>"
   ]
  },
  {
   "cell_type": "code",
   "execution_count": 32,
   "id": "ee6bec64",
   "metadata": {},
   "outputs": [
    {
     "data": {
      "text/html": [
       "<div>\n",
       "<style scoped>\n",
       "    .dataframe tbody tr th:only-of-type {\n",
       "        vertical-align: middle;\n",
       "    }\n",
       "\n",
       "    .dataframe tbody tr th {\n",
       "        vertical-align: top;\n",
       "    }\n",
       "\n",
       "    .dataframe thead th {\n",
       "        text-align: right;\n",
       "    }\n",
       "</style>\n",
       "<table border=\"1\" class=\"dataframe\">\n",
       "  <thead>\n",
       "    <tr style=\"text-align: right;\">\n",
       "      <th></th>\n",
       "      <th>Random value1</th>\n",
       "      <th>Random value2</th>\n",
       "      <th>Random value3</th>\n",
       "      <th>Random value4</th>\n",
       "    </tr>\n",
       "  </thead>\n",
       "  <tbody>\n",
       "    <tr>\n",
       "      <th>0</th>\n",
       "      <td>0.522733</td>\n",
       "      <td>0.427541</td>\n",
       "      <td>0.025419</td>\n",
       "      <td>0.107891</td>\n",
       "    </tr>\n",
       "    <tr>\n",
       "      <th>1</th>\n",
       "      <td>0.031429</td>\n",
       "      <td>0.636410</td>\n",
       "      <td>0.314356</td>\n",
       "      <td>0.508571</td>\n",
       "    </tr>\n",
       "    <tr>\n",
       "      <th>2</th>\n",
       "      <td>0.907566</td>\n",
       "      <td>0.249292</td>\n",
       "      <td>0.410383</td>\n",
       "      <td>0.755551</td>\n",
       "    </tr>\n",
       "    <tr>\n",
       "      <th>3</th>\n",
       "      <td>0.228798</td>\n",
       "      <td>0.076980</td>\n",
       "      <td>0.289751</td>\n",
       "      <td>0.161221</td>\n",
       "    </tr>\n",
       "  </tbody>\n",
       "</table>\n",
       "</div>"
      ],
      "text/plain": [
       "   Random value1  Random value2  Random value3  Random value4\n",
       "0       0.522733       0.427541       0.025419       0.107891\n",
       "1       0.031429       0.636410       0.314356       0.508571\n",
       "2       0.907566       0.249292       0.410383       0.755551\n",
       "3       0.228798       0.076980       0.289751       0.161221"
      ]
     },
     "execution_count": 32,
     "metadata": {},
     "output_type": "execute_result"
    }
   ],
   "source": [
    "df.columns=['Random value1','Random value2','Random value3','Random value4']\n",
    "df"
   ]
  },
  {
   "cell_type": "markdown",
   "id": "1b5175b6",
   "metadata": {},
   "source": [
    "<h3>Task-3</h3>\n",
    "<h4>Find the descriptive statistics of the 'df' dataframe.</h4>"
   ]
  },
  {
   "cell_type": "code",
   "execution_count": 33,
   "id": "171dbc7f",
   "metadata": {},
   "outputs": [
    {
     "data": {
      "text/html": [
       "<div>\n",
       "<style scoped>\n",
       "    .dataframe tbody tr th:only-of-type {\n",
       "        vertical-align: middle;\n",
       "    }\n",
       "\n",
       "    .dataframe tbody tr th {\n",
       "        vertical-align: top;\n",
       "    }\n",
       "\n",
       "    .dataframe thead th {\n",
       "        text-align: right;\n",
       "    }\n",
       "</style>\n",
       "<table border=\"1\" class=\"dataframe\">\n",
       "  <thead>\n",
       "    <tr style=\"text-align: right;\">\n",
       "      <th></th>\n",
       "      <th>Random value1</th>\n",
       "      <th>Random value2</th>\n",
       "      <th>Random value3</th>\n",
       "      <th>Random value4</th>\n",
       "    </tr>\n",
       "  </thead>\n",
       "  <tbody>\n",
       "    <tr>\n",
       "      <th>count</th>\n",
       "      <td>4.000000</td>\n",
       "      <td>4.000000</td>\n",
       "      <td>4.000000</td>\n",
       "      <td>4.000000</td>\n",
       "    </tr>\n",
       "    <tr>\n",
       "      <th>mean</th>\n",
       "      <td>0.422632</td>\n",
       "      <td>0.347556</td>\n",
       "      <td>0.259977</td>\n",
       "      <td>0.383309</td>\n",
       "    </tr>\n",
       "    <tr>\n",
       "      <th>std</th>\n",
       "      <td>0.381136</td>\n",
       "      <td>0.239932</td>\n",
       "      <td>0.164806</td>\n",
       "      <td>0.305195</td>\n",
       "    </tr>\n",
       "    <tr>\n",
       "      <th>min</th>\n",
       "      <td>0.031429</td>\n",
       "      <td>0.076980</td>\n",
       "      <td>0.025419</td>\n",
       "      <td>0.107891</td>\n",
       "    </tr>\n",
       "    <tr>\n",
       "      <th>25%</th>\n",
       "      <td>0.179456</td>\n",
       "      <td>0.206214</td>\n",
       "      <td>0.223668</td>\n",
       "      <td>0.147889</td>\n",
       "    </tr>\n",
       "    <tr>\n",
       "      <th>50%</th>\n",
       "      <td>0.375765</td>\n",
       "      <td>0.338417</td>\n",
       "      <td>0.302054</td>\n",
       "      <td>0.334896</td>\n",
       "    </tr>\n",
       "    <tr>\n",
       "      <th>75%</th>\n",
       "      <td>0.618941</td>\n",
       "      <td>0.479758</td>\n",
       "      <td>0.338363</td>\n",
       "      <td>0.570316</td>\n",
       "    </tr>\n",
       "    <tr>\n",
       "      <th>max</th>\n",
       "      <td>0.907566</td>\n",
       "      <td>0.636410</td>\n",
       "      <td>0.410383</td>\n",
       "      <td>0.755551</td>\n",
       "    </tr>\n",
       "  </tbody>\n",
       "</table>\n",
       "</div>"
      ],
      "text/plain": [
       "       Random value1  Random value2  Random value3  Random value4\n",
       "count       4.000000       4.000000       4.000000       4.000000\n",
       "mean        0.422632       0.347556       0.259977       0.383309\n",
       "std         0.381136       0.239932       0.164806       0.305195\n",
       "min         0.031429       0.076980       0.025419       0.107891\n",
       "25%         0.179456       0.206214       0.223668       0.147889\n",
       "50%         0.375765       0.338417       0.302054       0.334896\n",
       "75%         0.618941       0.479758       0.338363       0.570316\n",
       "max         0.907566       0.636410       0.410383       0.755551"
      ]
     },
     "execution_count": 33,
     "metadata": {},
     "output_type": "execute_result"
    }
   ],
   "source": [
    "df.describe()"
   ]
  },
  {
   "cell_type": "markdown",
   "id": "698b1c92",
   "metadata": {},
   "source": [
    "<h3>Task-4</h3>\n",
    "<h4>Check for the null values in 'df' and find the data type of the columns.</h4>"
   ]
  },
  {
   "cell_type": "code",
   "execution_count": 34,
   "id": "3b6248dc",
   "metadata": {},
   "outputs": [
    {
     "data": {
      "text/plain": [
       "Random value1    False\n",
       "Random value2    False\n",
       "Random value3    False\n",
       "Random value4    False\n",
       "dtype: bool"
      ]
     },
     "execution_count": 34,
     "metadata": {},
     "output_type": "execute_result"
    }
   ],
   "source": [
    "df.isnull().any()"
   ]
  },
  {
   "cell_type": "code",
   "execution_count": 35,
   "id": "64c0fc0d",
   "metadata": {},
   "outputs": [
    {
     "data": {
      "text/plain": [
       "Random value1    float64\n",
       "Random value2    float64\n",
       "Random value3    float64\n",
       "Random value4    float64\n",
       "dtype: object"
      ]
     },
     "execution_count": 35,
     "metadata": {},
     "output_type": "execute_result"
    }
   ],
   "source": [
    "df.dtypes"
   ]
  },
  {
   "cell_type": "markdown",
   "id": "bba77dc4",
   "metadata": {},
   "source": [
    "<h3>Task-5</h3>\n",
    "<h4>Display the 'Random value 2' & 'Random value 3' columns with location method and index location method</h4>"
   ]
  },
  {
   "cell_type": "code",
   "execution_count": 36,
   "id": "c0346a14",
   "metadata": {},
   "outputs": [
    {
     "data": {
      "text/html": [
       "<div>\n",
       "<style scoped>\n",
       "    .dataframe tbody tr th:only-of-type {\n",
       "        vertical-align: middle;\n",
       "    }\n",
       "\n",
       "    .dataframe tbody tr th {\n",
       "        vertical-align: top;\n",
       "    }\n",
       "\n",
       "    .dataframe thead th {\n",
       "        text-align: right;\n",
       "    }\n",
       "</style>\n",
       "<table border=\"1\" class=\"dataframe\">\n",
       "  <thead>\n",
       "    <tr style=\"text-align: right;\">\n",
       "      <th></th>\n",
       "      <th>Random value2</th>\n",
       "      <th>Random value3</th>\n",
       "    </tr>\n",
       "  </thead>\n",
       "  <tbody>\n",
       "    <tr>\n",
       "      <th>0</th>\n",
       "      <td>0.427541</td>\n",
       "      <td>0.025419</td>\n",
       "    </tr>\n",
       "    <tr>\n",
       "      <th>1</th>\n",
       "      <td>0.636410</td>\n",
       "      <td>0.314356</td>\n",
       "    </tr>\n",
       "    <tr>\n",
       "      <th>2</th>\n",
       "      <td>0.249292</td>\n",
       "      <td>0.410383</td>\n",
       "    </tr>\n",
       "    <tr>\n",
       "      <th>3</th>\n",
       "      <td>0.076980</td>\n",
       "      <td>0.289751</td>\n",
       "    </tr>\n",
       "  </tbody>\n",
       "</table>\n",
       "</div>"
      ],
      "text/plain": [
       "   Random value2  Random value3\n",
       "0       0.427541       0.025419\n",
       "1       0.636410       0.314356\n",
       "2       0.249292       0.410383\n",
       "3       0.076980       0.289751"
      ]
     },
     "execution_count": 36,
     "metadata": {},
     "output_type": "execute_result"
    }
   ],
   "source": [
    "df.loc[:,['Random value2','Random value3']]"
   ]
  },
  {
   "cell_type": "code",
   "execution_count": 37,
   "id": "92a88329",
   "metadata": {},
   "outputs": [
    {
     "data": {
      "text/html": [
       "<div>\n",
       "<style scoped>\n",
       "    .dataframe tbody tr th:only-of-type {\n",
       "        vertical-align: middle;\n",
       "    }\n",
       "\n",
       "    .dataframe tbody tr th {\n",
       "        vertical-align: top;\n",
       "    }\n",
       "\n",
       "    .dataframe thead th {\n",
       "        text-align: right;\n",
       "    }\n",
       "</style>\n",
       "<table border=\"1\" class=\"dataframe\">\n",
       "  <thead>\n",
       "    <tr style=\"text-align: right;\">\n",
       "      <th></th>\n",
       "      <th>Random value2</th>\n",
       "      <th>Random value3</th>\n",
       "    </tr>\n",
       "  </thead>\n",
       "  <tbody>\n",
       "    <tr>\n",
       "      <th>0</th>\n",
       "      <td>0.427541</td>\n",
       "      <td>0.025419</td>\n",
       "    </tr>\n",
       "    <tr>\n",
       "      <th>1</th>\n",
       "      <td>0.636410</td>\n",
       "      <td>0.314356</td>\n",
       "    </tr>\n",
       "    <tr>\n",
       "      <th>2</th>\n",
       "      <td>0.249292</td>\n",
       "      <td>0.410383</td>\n",
       "    </tr>\n",
       "    <tr>\n",
       "      <th>3</th>\n",
       "      <td>0.076980</td>\n",
       "      <td>0.289751</td>\n",
       "    </tr>\n",
       "  </tbody>\n",
       "</table>\n",
       "</div>"
      ],
      "text/plain": [
       "   Random value2  Random value3\n",
       "0       0.427541       0.025419\n",
       "1       0.636410       0.314356\n",
       "2       0.249292       0.410383\n",
       "3       0.076980       0.289751"
      ]
     },
     "execution_count": 37,
     "metadata": {},
     "output_type": "execute_result"
    }
   ],
   "source": [
    "df.iloc[:,1:3]"
   ]
  }
 ],
 "metadata": {
  "kernelspec": {
   "display_name": "Python 3 (ipykernel)",
   "language": "python",
   "name": "python3"
  },
  "language_info": {
   "codemirror_mode": {
    "name": "ipython",
    "version": 3
   },
   "file_extension": ".py",
   "mimetype": "text/x-python",
   "name": "python",
   "nbconvert_exporter": "python",
   "pygments_lexer": "ipython3",
   "version": "3.10.9"
  }
 },
 "nbformat": 4,
 "nbformat_minor": 5
}
